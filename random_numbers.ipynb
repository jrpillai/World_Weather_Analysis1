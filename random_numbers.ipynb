{
 "cells": [
  {
   "cell_type": "code",
   "execution_count": 1,
   "id": "a7d98084",
   "metadata": {},
   "outputs": [],
   "source": [
    "# Import the random module.\n",
    "import random"
   ]
  },
  {
   "cell_type": "code",
   "execution_count": 2,
   "id": "3ce16d98",
   "metadata": {},
   "outputs": [
    {
     "data": {
      "text/plain": [
       "40"
      ]
     },
     "execution_count": 2,
     "metadata": {},
     "output_type": "execute_result"
    }
   ],
   "source": [
    "random.randint(-90, 90)"
   ]
  },
  {
   "cell_type": "code",
   "execution_count": 3,
   "id": "b133b554",
   "metadata": {},
   "outputs": [],
   "source": [
    "x = 1\n",
    "latitudes = []\n",
    "while x < 11:\n",
    "    random_lat = random.randint(-90, 89) + random.random()\n",
    "    latitudes.append(random_lat)\n",
    "    x += 1"
   ]
  },
  {
   "cell_type": "code",
   "execution_count": 4,
   "id": "74be2539",
   "metadata": {},
   "outputs": [
    {
     "data": {
      "text/plain": [
       "[60.76900041597375,\n",
       " 3.5677682074711567,\n",
       " 32.95038816228182,\n",
       " -82.52520107978013,\n",
       " 88.63139460769987,\n",
       " 20.678867498002464,\n",
       " 40.72493135285828,\n",
       " -45.50188318071051,\n",
       " -31.287536071503574,\n",
       " -55.984887752561406]"
      ]
     },
     "execution_count": 4,
     "metadata": {},
     "output_type": "execute_result"
    }
   ],
   "source": [
    "latitudes"
   ]
  },
  {
   "cell_type": "code",
   "execution_count": 5,
   "id": "5aeda358",
   "metadata": {},
   "outputs": [
    {
     "data": {
      "text/plain": [
       "-76"
      ]
     },
     "execution_count": 5,
     "metadata": {},
     "output_type": "execute_result"
    }
   ],
   "source": [
    "random.randrange(-90, 90, step=1)"
   ]
  },
  {
   "cell_type": "code",
   "execution_count": 6,
   "id": "f782d787",
   "metadata": {},
   "outputs": [
    {
     "data": {
      "text/plain": [
       "-72"
      ]
     },
     "execution_count": 6,
     "metadata": {},
     "output_type": "execute_result"
    }
   ],
   "source": [
    "random.randrange(-90, 90, step=3)"
   ]
  },
  {
   "cell_type": "code",
   "execution_count": 7,
   "id": "f53cf231",
   "metadata": {},
   "outputs": [],
   "source": [
    "# Import the NumPy module.\n",
    "import numpy as np"
   ]
  },
  {
   "cell_type": "code",
   "execution_count": 8,
   "id": "55587cfd",
   "metadata": {},
   "outputs": [
    {
     "data": {
      "text/plain": [
       "-62.22582265026358"
      ]
     },
     "execution_count": 8,
     "metadata": {},
     "output_type": "execute_result"
    }
   ],
   "source": [
    "np.random.uniform(-90.000, 90.000)"
   ]
  },
  {
   "cell_type": "code",
   "execution_count": 9,
   "id": "06b3a234",
   "metadata": {},
   "outputs": [
    {
     "data": {
      "text/plain": [
       "array([-55.02148391,  54.8768397 , -67.14210018, -51.55138304,\n",
       "        52.07676778,  62.80448502, -27.26197796,  19.17505348,\n",
       "        43.66149679, -62.16298442, -37.7059875 ,  32.51528652,\n",
       "        78.00820743, -80.18285494,  55.82213003,  13.72752891,\n",
       "        48.27999963,  59.28241284,  73.28620168, -68.02376849,\n",
       "        75.73986114, -87.60307739,  -0.92121072,  15.61750661,\n",
       "       -35.63637234, -18.56499391,  29.15398205,   1.64895503,\n",
       "       -56.1449198 ,  21.58845133, -86.77482523,  49.82902147,\n",
       "        69.91854038,   9.87075326, -73.11284636, -35.68165832,\n",
       "         1.06248426,  50.21572163, -54.47989686,  42.75132586,\n",
       "        55.47295782, -32.54881557,  -0.4630764 ,  64.1665086 ,\n",
       "       -22.6114892 ,  82.70090867,  21.99470146,  12.15416375,\n",
       "         4.62901574, -53.34299   ])"
      ]
     },
     "execution_count": 9,
     "metadata": {},
     "output_type": "execute_result"
    }
   ],
   "source": [
    "np.random.uniform(-90.000, 90.000, size=50)"
   ]
  }
 ],
 "metadata": {
  "kernelspec": {
   "display_name": "PythonData",
   "language": "python",
   "name": "pythondata"
  },
  "language_info": {
   "codemirror_mode": {
    "name": "ipython",
    "version": 3
   },
   "file_extension": ".py",
   "mimetype": "text/x-python",
   "name": "python",
   "nbconvert_exporter": "python",
   "pygments_lexer": "ipython3",
   "version": "3.7.11"
  }
 },
 "nbformat": 4,
 "nbformat_minor": 5
}
